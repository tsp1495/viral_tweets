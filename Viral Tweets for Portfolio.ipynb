{
 "cells": [
  {
   "cell_type": "code",
   "execution_count": 1,
   "id": "c5a0be4b",
   "metadata": {},
   "outputs": [],
   "source": [
    "#In this project, we are going to use the K-Nearest Neighbor algorithm to predict whether a tweet will go viral"
   ]
  },
  {
   "cell_type": "code",
   "execution_count": 19,
   "id": "2f432cf4",
   "metadata": {},
   "outputs": [],
   "source": [
    "import pandas as pd\n",
    "import numpy as np\n",
    "from sklearn.preprocessing import scale\n",
    "from sklearn.model_selection import train_test_split\n",
    "from sklearn.neighbors import KNeighborsClassifier\n",
    "import matplotlib.pyplot as plt"
   ]
  },
  {
   "cell_type": "code",
   "execution_count": 5,
   "id": "f3b9087c",
   "metadata": {},
   "outputs": [
    {
     "name": "stdout",
     "output_type": "stream",
     "text": [
      "11099\n",
      "Index(['created_at', 'id', 'id_str', 'text', 'truncated', 'entities',\n",
      "       'metadata', 'source', 'in_reply_to_status_id',\n",
      "       'in_reply_to_status_id_str', 'in_reply_to_user_id',\n",
      "       'in_reply_to_user_id_str', 'in_reply_to_screen_name', 'user', 'geo',\n",
      "       'coordinates', 'place', 'contributors', 'retweeted_status',\n",
      "       'is_quote_status', 'retweet_count', 'favorite_count', 'favorited',\n",
      "       'retweeted', 'lang', 'possibly_sensitive', 'quoted_status_id',\n",
      "       'quoted_status_id_str', 'extended_entities', 'quoted_status',\n",
      "       'withheld_in_countries'],\n",
      "      dtype='object')\n",
      "RT @KWWLStormTrack7: We are more than a month into summer but the days are getting shorter. The sunrise is about 25 minutes later on July 3…\n"
     ]
    }
   ],
   "source": [
    "#load the data set and then print it to see what it contains\n",
    "all_tweets = pd.read_json(\"random_tweets.json\", lines=True)\n",
    "\n",
    "print(len(all_tweets))\n",
    "print(all_tweets.columns)\n",
    "print(all_tweets.loc[0]['text'])"
   ]
  },
  {
   "cell_type": "code",
   "execution_count": 6,
   "id": "13ea9679",
   "metadata": {},
   "outputs": [
    {
     "name": "stdout",
     "output_type": "stream",
     "text": [
      "13.0\n",
      "0    8972\n",
      "1    2127\n",
      "Name: is_viral, dtype: int64\n"
     ]
    }
   ],
   "source": [
    "# Now need to define what a viral tweet is. I have gone when a tweet gets retweeted more than 1000 times is it deemed viral\n",
    "all_tweets['is_viral'] = np.where(all_tweets['retweet_count'] > 1000, 1, 0)\n",
    "print(np.median(all_tweets[\"retweet_count\"]))\n",
    "print(all_tweets['is_viral'].value_counts())"
   ]
  },
  {
   "cell_type": "code",
   "execution_count": 10,
   "id": "1a777a35",
   "metadata": {},
   "outputs": [
    {
     "name": "stdout",
     "output_type": "stream",
     "text": [
      "215\n"
     ]
    }
   ],
   "source": [
    "# Now we will create features that determine whether a tweet will be viral or not\n",
    "#The features I have decided to go with our length of a tweet, number of followers and number of friends\n",
    "all_tweets['tweet_length'] = all_tweets.apply(lambda tweet: len(tweet['text']), axis=1)\n",
    "all_tweets[\"followers_count\"]= all_tweets.apply(lambda tweet: tweet['user']['followers_count'],axis=1)\n",
    "all_tweets[\"friends_count\"]= all_tweets.apply(lambda tweet: tweet[\"user\"][\"friends_count\"],axis=1)\n",
    "print(all_tweets.loc[0][\"followers_count\"])"
   ]
  },
  {
   "cell_type": "code",
   "execution_count": 13,
   "id": "3c5c4771",
   "metadata": {},
   "outputs": [
    {
     "name": "stdout",
     "output_type": "stream",
     "text": [
      "[ 0.6164054  -0.02925987 -0.18027824]\n"
     ]
    }
   ],
   "source": [
    "#Now that we have our features we need to normalise the data to that one feature doesnt massively skew the data over the others\n",
    "label=all_tweets[\"is_viral\"]\n",
    "data= all_tweets[[\"tweet_length\",\"followers_count\",\"friends_count\"]]\n",
    "scaled_data=scale(data,axis=0)\n",
    "print(scaled_data[10])"
   ]
  },
  {
   "cell_type": "code",
   "execution_count": 27,
   "id": "f84721a7",
   "metadata": {},
   "outputs": [
    {
     "name": "stdout",
     "output_type": "stream",
     "text": [
      "0.7972972972972973\n"
     ]
    }
   ],
   "source": [
    "#Create a training set and use the K-nearest neightbours classifier to build the model\n",
    "train_data,test_data,train_labels,test_labels= train_test_split(scaled_data,label,test_size=0.2,random_state=1)\n",
    "classifier=KNeighborsClassifier(n_neighbors=4)\n",
    "classifier.fit(train_data,train_labels)\n",
    "print(classifier.score(test_data,test_labels))"
   ]
  },
  {
   "cell_type": "code",
   "execution_count": 20,
   "id": "33429feb",
   "metadata": {},
   "outputs": [
    {
     "data": {
      "image/png": "[encoded data removed]",
      "text/plain": [
       "<Figure size 432x288 with 1 Axes>"
      ]
     },
     "metadata": {
      "needs_background": "light"
     },
     "output_type": "display_data"
    }
   ],
   "source": [
    "# I tested my model with K=4 but what would be the best K value that gives the greatest score\n",
    "scores=[]\n",
    "for i in range(1,200):\n",
    "    classifier = KNeighborsClassifier(n_neighbors=i)\n",
    "    classifier.fit(train_data,train_labels)\n",
    "    scores.append(classifier.score(test_data,test_labels))\n",
    "x=range(1,200)\n",
    "y=scores\n",
    "plt.plot(scores,\"r\")\n",
    "plt.xlabel(\"k\")\n",
    "plt.ylabel(\"score\")\n",
    "plt.show()"
   ]
  },
  {
   "cell_type": "code",
   "execution_count": 28,
   "id": "68213041",
   "metadata": {},
   "outputs": [
    {
     "name": "stdout",
     "output_type": "stream",
     "text": [
      "From the graph the highest score comes when we get a K value between 20-25. The highest score is around 80% which is fairly accurate and certainly better than random\n"
     ]
    }
   ],
   "source": [
    "print(\"From the graph the highest score comes when we get a K value between 20-25. The highest score is around 80% which is fairly accurate and certainly better than random\") "
   ]
  },
  {
   "cell_type": "code",
   "execution_count": null,
   "id": "ad43db24",
   "metadata": {},
   "outputs": [],
   "source": []
  }
 ],
 "metadata": {
  "kernelspec": {
   "display_name": "Python 3 (ipykernel)",
   "language": "python",
   "name": "python3"
  },
  "language_info": {
   "codemirror_mode": {
    "name": "ipython",
    "version": 3
   },
   "file_extension": ".py",
   "mimetype": "text/x-python",
   "name": "python",
   "nbconvert_exporter": "python",
   "pygments_lexer": "ipython3",
   "version": "3.9.7"
  }
 },
 "nbformat": 4,
 "nbformat_minor": 5
}
